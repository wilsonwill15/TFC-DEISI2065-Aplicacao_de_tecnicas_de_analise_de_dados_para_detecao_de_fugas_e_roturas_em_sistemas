{
 "cells": [
  {
   "cell_type": "markdown",
   "metadata": {},
   "source": [
    "## Importar das Bibliotecas"
   ]
  },
  {
   "cell_type": "code",
   "execution_count": null,
   "metadata": {},
   "outputs": [],
   "source": [
    "import pandas as pd\n",
    "import multiprocessing as mp\n",
    "import matplotlib.pyplot as plt\n",
    "import numpy as np\n",
    "import os"
   ]
  },
  {
   "cell_type": "code",
   "execution_count": null,
   "metadata": {},
   "outputs": [],
   "source": [
    "nome = '' #nome do local\n",
    "ano = #ano a analisar"
   ]
  },
  {
   "cell_type": "code",
   "execution_count": null,
   "metadata": {},
   "outputs": [],
   "source": [
    "Grafico = pd.read_excel(f'..\\\\data\\\\Reconstruídas\\\\{nome.replace(' ','_')}_{ano}.xlsx')\n",
    "Grafico_Outliers = pd.read_excel(f'..\\\\data\\\\Resultados\\\\{nome.replace(' ','_')}_{ano}_Resultado.xlsx')"
   ]
  },
  {
   "cell_type": "code",
   "execution_count": null,
   "metadata": {},
   "outputs": [],
   "source": [
    "# Melt the dataframe to convert it to two columns: 'Date' and 'Value'\n",
    "Grafico_Derretido = Grafico.melt(id_vars=['Date'], var_name='Hora', value_name='Caudal')\n",
    "Grafico_Outliers_Derretido = Grafico_Outliers.melt(id_vars=['Date'], var_name='Hora', value_name='Anomalia')\n",
    "\n",
    "#Porto_Carro_2016_Grafico_Derretido"
   ]
  },
  {
   "cell_type": "code",
   "execution_count": null,
   "metadata": {},
   "outputs": [],
   "source": [
    "# Converter a coluna 'Date' para datetime\n",
    "Grafico_Derretido['Date'] = pd.to_datetime(Grafico_Derretido['Date'], format='%d/%m/%Y', dayfirst=True)\n",
    "\n",
    "# Adicionar uma coluna de mês\n",
    "Grafico_Derretido['Mês'] = Grafico_Derretido['Date'].dt.month\n",
    "\n",
    "# Adicionar uma coluna de ano\n",
    "Grafico_Derretido['Ano'] = Grafico_Derretido['Date'].dt.year"
   ]
  },
  {
   "cell_type": "code",
   "execution_count": null,
   "metadata": {},
   "outputs": [],
   "source": [
    "# Converter a coluna 'Date' para datetime\n",
    "Grafico_Outliers_Derretido['Date'] = pd.to_datetime(Grafico_Outliers_Derretido['Date'], format='%d/%m/%Y', dayfirst=True)\n",
    "\n",
    "# Adicionar uma coluna de mês\n",
    "Grafico_Outliers_Derretido['Mês'] = Grafico_Outliers_Derretido['Date'].dt.month\n",
    "\n",
    "# Adicionar uma coluna de ano\n",
    "Grafico_Outliers_Derretido['Ano'] = Grafico_Outliers_Derretido['Date'].dt.year\n",
    "\n",
    "# Adicionar uma coluna de Caudal a tabela de Outliers\n",
    "Grafico_Outliers_Derretido['Caudal'] = Grafico_Derretido['Caudal']"
   ]
  },
  {
   "cell_type": "code",
   "execution_count": null,
   "metadata": {},
   "outputs": [],
   "source": [
    "# Group by 'Mês' and 'Hora' and calculate the required statistics\n",
    "statistics = Grafico_Derretido.groupby(['Mês', 'Hora', 'Ano']).agg(\n",
    "    Percentil_95=('Caudal', lambda x: np.percentile(x, 95)),\n",
    "    Media=('Caudal', 'mean'),\n",
    "    Mediana=('Caudal', 'median'),\n",
    "    Percentil_5=('Caudal', lambda x: np.percentile(x, 5))\n",
    ").reset_index()\n",
    "\n",
    "#statistics"
   ]
  },
  {
   "cell_type": "code",
   "execution_count": null,
   "metadata": {},
   "outputs": [],
   "source": [
    "# Create a boxplot for the 'Caudal' column in the Porto_Carro_2016_Grafico_Derretido dataframe\n",
    "#Grafico_Derretido.boxplot(column='Caudal', by='Mês', figsize=(50, 15))\n",
    "Grafico_Derretido.boxplot(column='Caudal', by='Mês', figsize=(25, 5))\n",
    "plt.title(f'Boxplot do Caudal por Mês no Ano {ano} em {nome}')\n",
    "plt.title(f' ')\n",
    "plt.suptitle('')  # Suppress the default title to avoid overlap\n",
    "\n",
    "# Defenir a cor de fundo e transparência\n",
    "plt.gca().set_facecolor('none')  # Set the axes background to be transparent\n",
    "plt.gcf().set_facecolor('none')  # Set the figure background to be transparent\n",
    "plt.gcf().set_alpha(0)  # Set the figure background to be transparent\n",
    "\n",
    "plt.xlabel('Mês')\n",
    "plt.ylabel('Caudal')\n",
    "\n",
    "#Criar pasta para guardar\n",
    "os.makedirs(f'..\\\\data\\\\Gráficos\\\\Boxplot\\\\{nome}', exist_ok=True)\n",
    "\n",
    "#Gravar gráficos\n",
    "plt.savefig(f'..\\\\data\\\\Gráficos\\\\Boxplot\\\\{nome}\\\\Boxplot - {nome} - {ano}.svg', dpi=10000)\n",
    "plt.savefig(f'..\\\\data\\\\Gráficos\\\\Boxplot\\\\{nome}\\\\Boxplot - {nome} - {ano}.png', dpi=250)\n",
    "plt.savefig(f'..\\\\data\\\\Gráficos\\\\Boxplot\\\\{nome}\\\\Boxplot - {nome} - {ano}.tiff', dpi=250)\n",
    "\n",
    "plt.show()\n",
    "\n",
    "# Describe the 'Caudal' column by 'Mês'\n",
    "Grafico_Derretido.groupby('Mês')['Caudal'].describe()"
   ]
  },
  {
   "cell_type": "code",
   "execution_count": null,
   "metadata": {},
   "outputs": [],
   "source": [
    "for mes in Grafico_Derretido['Mês'].unique():\n",
    "    # Ensure the data is sorted by 'Date' and 'Hora'\n",
    "    Grafico_Derretido_Tudo = Grafico_Derretido.sort_values(by=['Date', 'Hora'])\n",
    "    Grafico_Derretido_Tudo_Amomalias_Comunicadas = Grafico_Outliers_Derretido.sort_values(by=['Date', 'Hora'])\n",
    "    Grafico_Derretido_Tudo_Amomalias_Comunicadas_BoxPlot_Outliers = Grafico_Outliers_Derretido.sort_values(by=['Date', 'Hora'])\n",
    "    Grafico_Derretido_Tudo_Amomalias_Comunicadas_BoxPlot_Outliers_Menos = Grafico_Outliers_Derretido.sort_values(by=['Date', 'Hora'])\n",
    "    \n",
    "    boxplot = Grafico_Derretido.groupby('Mês')['Caudal'].describe()\n",
    "    \n",
    "    #\n",
    "    Grafico_Derretido_Tudo = Grafico_Derretido_Tudo[Grafico_Derretido_Tudo['Mês'] == mes]\n",
    "    Grafico_Derretido_Tudo_Amomalias_Comunicadas = Grafico_Derretido_Tudo_Amomalias_Comunicadas[Grafico_Derretido_Tudo_Amomalias_Comunicadas['Mês'] == mes]\n",
    "    Grafico_Derretido_Tudo_Amomalias_Comunicadas_BoxPlot_Outliers = Grafico_Derretido_Tudo_Amomalias_Comunicadas_BoxPlot_Outliers[Grafico_Derretido_Tudo_Amomalias_Comunicadas_BoxPlot_Outliers['Mês'] == mes]\n",
    "    Grafico_Derretido_Tudo_Amomalias_Comunicadas_BoxPlot_Outliers_Menos = Grafico_Derretido_Tudo_Amomalias_Comunicadas_BoxPlot_Outliers_Menos[Grafico_Derretido_Tudo_Amomalias_Comunicadas_BoxPlot_Outliers_Menos['Mês'] == mes]\n",
    "\n",
    "    # Convert 'Hora' to a suitable timedelta representation\n",
    "    Grafico_Derretido_Tudo['Hora'] = Grafico_Derretido_Tudo['Hora'].str.replace('X', '').str.replace('.', ':')\n",
    "    Grafico_Derretido_Tudo['Hora'] = pd.to_timedelta(Grafico_Derretido_Tudo['Hora'] + ':00')\n",
    "\n",
    "    Grafico_Derretido_Tudo_Amomalias_Comunicadas['Hora'] = Grafico_Derretido_Tudo_Amomalias_Comunicadas['Hora'].str.replace('X', '').str.replace('.', ':')\n",
    "    Grafico_Derretido_Tudo_Amomalias_Comunicadas['Hora'] = pd.to_timedelta(Grafico_Derretido_Tudo_Amomalias_Comunicadas['Hora'] + ':00')\n",
    "    \n",
    "    Grafico_Derretido_Tudo_Amomalias_Comunicadas_BoxPlot_Outliers['Hora'] = Grafico_Derretido_Tudo_Amomalias_Comunicadas_BoxPlot_Outliers['Hora'].str.replace('X', '').str.replace('.', ':')\n",
    "    Grafico_Derretido_Tudo_Amomalias_Comunicadas_BoxPlot_Outliers['Hora'] = pd.to_timedelta(Grafico_Derretido_Tudo_Amomalias_Comunicadas_BoxPlot_Outliers['Hora'] + ':00')\n",
    "    \n",
    "    Grafico_Derretido_Tudo_Amomalias_Comunicadas_BoxPlot_Outliers_Menos['Hora'] = Grafico_Derretido_Tudo_Amomalias_Comunicadas_BoxPlot_Outliers_Menos['Hora'].str.replace('X', '').str.replace('.', ':')\n",
    "    Grafico_Derretido_Tudo_Amomalias_Comunicadas_BoxPlot_Outliers_Menos['Hora'] = pd.to_timedelta(Grafico_Derretido_Tudo_Amomalias_Comunicadas_BoxPlot_Outliers_Menos['Hora'] + ':00')\n",
    "\n",
    "    # Replace 'Caudal' values with np.nan where 'Anomalia' is 0\n",
    "    Grafico_Derretido_Tudo_Amomalias_Comunicadas.loc[Grafico_Derretido_Tudo_Amomalias_Comunicadas['Anomalia'] == 0, 'Caudal'] = np.nan\n",
    "    #Grafico_Derretido_Tudo_Amomalias_Comunicadas_BoxPlot_Outliers.loc[Grafico_Derretido_Tudo_Amomalias_Comunicadas_BoxPlot_Outliers['Anomalia'] == 0, 'Caudal'] = np.nan\n",
    "    \n",
    "    #\n",
    "    amplitudeInterQuartil = boxplot.loc[mes, '75%'] - boxplot.loc[mes, '25%']\n",
    "    \n",
    "    Grafico_Derretido_Tudo_Amomalias_Comunicadas_BoxPlot_Outliers.loc[Grafico_Derretido_Tudo_Amomalias_Comunicadas_BoxPlot_Outliers['Caudal'] < (boxplot.loc[mes, '75%'] + 1.5 * amplitudeInterQuartil), 'Caudal'] = np.nan\n",
    "    Grafico_Derretido_Tudo_Amomalias_Comunicadas_BoxPlot_Outliers_Menos.loc[Grafico_Derretido_Tudo_Amomalias_Comunicadas_BoxPlot_Outliers_Menos['Caudal'] > (boxplot.loc[mes, '25%'] - 1.5 * amplitudeInterQuartil), 'Caudal'] = np.nan\n",
    "\n",
    "    # Combine 'Date' and 'Hora' into a single datetime column\n",
    "    Grafico_Derretido_Tudo['DateTime'] = Grafico_Derretido_Tudo['Date'] + Grafico_Derretido_Tudo['Hora']\n",
    "    Grafico_Derretido_Tudo_Amomalias_Comunicadas['DateTime'] = Grafico_Derretido_Tudo_Amomalias_Comunicadas['Date'] + Grafico_Derretido_Tudo_Amomalias_Comunicadas['Hora']\n",
    "    Grafico_Derretido_Tudo_Amomalias_Comunicadas_BoxPlot_Outliers['DateTime'] = Grafico_Derretido_Tudo_Amomalias_Comunicadas_BoxPlot_Outliers['Date'] + Grafico_Derretido_Tudo_Amomalias_Comunicadas_BoxPlot_Outliers['Hora']\n",
    "    Grafico_Derretido_Tudo_Amomalias_Comunicadas_BoxPlot_Outliers_Menos['DateTime'] = Grafico_Derretido_Tudo_Amomalias_Comunicadas_BoxPlot_Outliers_Menos['Date'] + Grafico_Derretido_Tudo_Amomalias_Comunicadas_BoxPlot_Outliers_Menos['Hora']\n",
    "\n",
    "    # Plot the data\n",
    "    #plt.figure(figsize=(75, 15))\n",
    "    plt.figure(figsize=(25, 5))\n",
    "    plt.plot(Grafico_Derretido_Tudo['DateTime'], Grafico_Derretido_Tudo['Caudal'], label='Caudal', color='xkcd:azure')\n",
    "    plt.plot(Grafico_Derretido_Tudo_Amomalias_Comunicadas['DateTime'], Grafico_Derretido_Tudo_Amomalias_Comunicadas['Caudal'], label='Caudal - Anomalias Comunicadas', color='xkcd:tomato')\n",
    "    plt.plot(Grafico_Derretido_Tudo_Amomalias_Comunicadas_BoxPlot_Outliers['DateTime'], Grafico_Derretido_Tudo_Amomalias_Comunicadas_BoxPlot_Outliers['Caudal'], linestyle=\" \", marker='x', label='Caudal - Outliers - Acima do Máximo', color=\"xkcd:orange\")\n",
    "    plt.plot(Grafico_Derretido_Tudo_Amomalias_Comunicadas_BoxPlot_Outliers_Menos['DateTime'], Grafico_Derretido_Tudo_Amomalias_Comunicadas_BoxPlot_Outliers_Menos['Caudal'], linestyle=\" \", marker='x', label='Caudal - Outliers - Abaixo do Mínimo', color=\"xkcd:orange\")\n",
    "    \n",
    "    plt.axhline(boxplot.loc[mes, '75%'] + 1.5 * amplitudeInterQuartil, color='xkcd:blue', linestyle='--',label='Boxplot - Máximo')\n",
    "    plt.axhline(boxplot.loc[mes, '25%'] - 1.5 * amplitudeInterQuartil, color='xkcd:blue', linestyle='--',label='Boxplot - Mínimo')\n",
    "    \n",
    "    plt.axhline(boxplot['75%'][mes], color='xkcd:purple', linestyle='--', label='Boxplot - 3º Quartil - 75%')\n",
    "    plt.axhline(boxplot['50%'][mes], color='xkcd:green', linestyle='--', label='Boxplot - 2º Quartil - 50%')\n",
    "    plt.axhline(boxplot['25%'][mes], color='xkcd:fuchsia', linestyle='--', label='Boxplot - 1º Quartil - 25%')\n",
    "    \n",
    "    plt.axhline(boxplot['mean'][mes], color='xkcd:gold', linestyle='--', label='Boxplot - Média')\n",
    "    plt.axhline(boxplot['std'][mes], color='xkcd:silver', linestyle='--', label='Boxplot - Desvio Padrão')\n",
    "    \n",
    "    # Add vertical lines for each day\n",
    "    for dia in Grafico_Derretido_Tudo['Date'].unique():\n",
    "        plt.axvline(pd.to_datetime(dia) + pd.to_timedelta('00:00:00'), color='xkcd:black', linestyle='--', alpha=0.5)\n",
    "    \n",
    "    plt.xlabel('Dia')\n",
    "    plt.ylabel('Caudal')\n",
    "    #plt.title(f'Caudal no {mes}º Mês do Ano {ano} em {nome}')\n",
    "    \n",
    "    # Defenir a cor de fundo e transparência\n",
    "    plt.gca().set_facecolor('none')  # Set the axes background to be transparent\n",
    "    plt.gcf().set_facecolor('none')  # Set the figure background to be transparent\n",
    "    plt.gcf().set_alpha(0)  # Set the figure background to be transparent\n",
    "    \n",
    "    plt.legend().set_alpha(0)\n",
    "    plt.grid(True)\n",
    "    \n",
    "    # Criar uma pasta para guardar os gráficos\n",
    "    os.makedirs(f'..\\\\data\\\\Gráficos\\\\Plot de Tudo\\\\{nome}\\\\{ano}', exist_ok=True)\n",
    "    \n",
    "    # Save the plot in different formats in a different directory with higher resolution\n",
    "    plt.savefig(f'..\\\\data\\\\Gráficos\\\\Plot de Tudo\\\\{nome}\\\\{ano}\\\\Plot - {nome} - Ano {ano} - Mês {mes}.svg', dpi=10000)\n",
    "    plt.savefig(f'..\\\\data\\\\Gráficos\\\\Plot de Tudo\\\\{nome}\\\\{ano}\\\\Plot - {nome} - Ano {ano} - Mês {mes}.png', dpi=250)\n",
    "    plt.savefig(f'..\\\\data\\\\Gráficos\\\\Plot de Tudo\\\\{nome}\\\\{ano}\\\\Plot - {nome} - Ano {ano} - Mês {mes}.tiff', dpi=250)\n",
    "    \n",
    "    plt.show()\n",
    "    \n",
    "    "
   ]
  }
 ],
 "metadata": {
  "kernelspec": {
   "display_name": "Python 3",
   "language": "python",
   "name": "python3"
  },
  "language_info": {
   "codemirror_mode": {
    "name": "ipython",
    "version": 3
   },
   "file_extension": ".py",
   "mimetype": "text/x-python",
   "name": "python",
   "nbconvert_exporter": "python",
   "pygments_lexer": "ipython3",
   "version": "3.13.3"
  }
 },
 "nbformat": 4,
 "nbformat_minor": 2
}
